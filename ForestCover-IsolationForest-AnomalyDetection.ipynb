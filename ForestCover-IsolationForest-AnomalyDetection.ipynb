{
 "cells": [
  {
   "cell_type": "code",
   "execution_count": 1,
   "metadata": {
    "collapsed": true
   },
   "outputs": [],
   "source": [
    "#import related packages\n",
    "import pandas as pd\n",
    "from sklearn.ensemble import IsolationForest\n",
    "import sklearn.metrics as metrics\n",
    "from sklearn.metrics import confusion_matrix"
   ]
  },
  {
   "cell_type": "code",
   "execution_count": 2,
   "metadata": {
    "collapsed": true
   },
   "outputs": [],
   "source": [
    "# read data\n",
    "data = pd.read_csv('covtype.data', header=None)"
   ]
  },
  {
   "cell_type": "code",
   "execution_count": 3,
   "metadata": {},
   "outputs": [
    {
     "data": {
      "text/plain": [
       "(581012, 55)"
      ]
     },
     "execution_count": 3,
     "metadata": {},
     "output_type": "execute_result"
    }
   ],
   "source": [
    "data.shape"
   ]
  },
  {
   "cell_type": "markdown",
   "metadata": {},
   "source": [
    "Total 55 features are available, using only first 10 features, as paper says not to use \n",
    "binary and nominal features, also only class 4(anomaly) and class 2(Normal) to be used."
   ]
  },
  {
   "cell_type": "code",
   "execution_count": 4,
   "metadata": {},
   "outputs": [],
   "source": [
    "# filter records with labels 4 and 2\n",
    "filtered_data = data[(data[54]==2) | (data[54]==4)].iloc[:, 0:10]"
   ]
  },
  {
   "cell_type": "code",
   "execution_count": 7,
   "metadata": {
    "collapsed": true
   },
   "outputs": [],
   "source": [
    "filtered_label = data[(data[54]==2) | (data[54]==4)][54]"
   ]
  },
  {
   "cell_type": "code",
   "execution_count": 5,
   "metadata": {},
   "outputs": [
    {
     "data": {
      "text/plain": [
       "(286048, 10)"
      ]
     },
     "execution_count": 5,
     "metadata": {},
     "output_type": "execute_result"
    }
   ],
   "source": [
    "filtered_data.shape"
   ]
  },
  {
   "cell_type": "code",
   "execution_count": 10,
   "metadata": {
    "scrolled": true
   },
   "outputs": [
    {
     "name": "stdout",
     "output_type": "stream",
     "text": [
      "[[     0 283301]\n",
      " [     0   2747]]\n",
      "AUC : 0.5 for max_sample :2\n",
      "[[280722   2579]\n",
      " [  2745      2]]\n",
      "AUC : 0.504187662408 for max_sample :4\n",
      "[[280727   2574]\n",
      " [  2746      1]]\n",
      "AUC : 0.504360854617 for max_sample :8\n",
      "[[280754   2547]\n",
      " [  2719     28]]\n",
      "AUC : 0.499398749991 for max_sample :16\n",
      "[[280886   2415]\n",
      " [  2587    160]]\n",
      "AUC : 0.475139571817 for max_sample :32\n",
      "[[280896   2405]\n",
      " [  2577    170]]\n",
      "AUC : 0.473301755289 for max_sample :64\n",
      "[[280851   2450]\n",
      " [  2622    125]]\n",
      "AUC : 0.481571929667 for max_sample :128\n",
      "[[280943   2358]\n",
      " [  2530    217]]\n",
      "AUC : 0.464664017606 for max_sample :256\n",
      "[[280930   2371]\n",
      " [  2543    204]]\n",
      "AUC : 0.467053179093 for max_sample :512\n",
      "[[280989   2312]\n",
      " [  2484    263]]\n",
      "AUC : 0.456210061576 for max_sample :1024\n",
      "[[280968   2333]\n",
      " [  2505    242]]\n",
      "AUC : 0.460069476285 for max_sample :2048\n",
      "[[280887   2414]\n",
      " [  2586    161]]\n",
      "AUC : 0.474955790165 for max_sample :4096\n",
      "[[280912   2389]\n",
      " [  2561    186]]\n",
      "AUC : 0.470361248844 for max_sample :8192\n",
      "[[280941   2360]\n",
      " [  2532    215]]\n",
      "AUC : 0.465031580912 for max_sample :16384\n",
      "[[280951   2350]\n",
      " [  2522    225]]\n",
      "AUC : 0.463193764384 for max_sample :32768\n"
     ]
    }
   ],
   "source": [
    "auc = []\n",
    "# checking with different max_samples: 2,4,8,..,32768\n",
    "for i in range(1, 16):\n",
    "    model = IsolationForest(n_estimators=100, max_samples=2**i, contamination=0.009)\n",
    "    model.fit(filtered_data)\n",
    "    predicted = model.predict(filtered_data)\n",
    "    \n",
    "    # convert to original labels i.e 1 -> 2(Normal class) and -1 -> 4(anomaly class)\n",
    "    predicted[predicted==1] = 2\n",
    "    predicted[predicted==-1] = 4\n",
    "    \n",
    "    #print confusion matrix\n",
    "    print confusion_matrix(filtered_label, predicted)\n",
    "    #calculate and print the AUC metric\n",
    "    \n",
    "    fpr, tpr, thresholds = metrics.roc_curve(filtered_label, predicted, pos_label=2)\n",
    "    \n",
    "    print(\"AUC : \" + str(metrics.auc(fpr, tpr)) + \" for max_sample :\" + str(2**i))\n",
    "    auc.append(metrics.auc(fpr, tpr))"
   ]
  },
  {
   "cell_type": "code",
   "execution_count": 11,
   "metadata": {
    "collapsed": true
   },
   "outputs": [],
   "source": [
    "import matplotlib.pyplot as plt\n",
    "%matplotlib inline"
   ]
  },
  {
   "cell_type": "code",
   "execution_count": 13,
   "metadata": {},
   "outputs": [
    {
     "data": {
      "text/plain": [
       "<matplotlib.text.Text at 0x7f4e52506110>"
      ]
     },
     "execution_count": 13,
     "metadata": {},
     "output_type": "execute_result"
    },
    {
     "data": {
      "image/png": "[encoded data removed]",
      "text/plain": [
       "<matplotlib.figure.Figure at 0x7f4e5254e210>"
      ]
     },
     "metadata": {},
     "output_type": "display_data"
    }
   ],
   "source": [
    "plt.plot(auc)\n",
    "plt.xlabel(\"max_sample as 2^x\")\n",
    "plt.ylabel(\"AUC Value\")"
   ]
  },
  {
   "cell_type": "code",
   "execution_count": null,
   "metadata": {
    "collapsed": true
   },
   "outputs": [],
   "source": []
  }
 ],
 "metadata": {
  "kernelspec": {
   "display_name": "Python 2",
   "language": "python",
   "name": "python2"
  },
  "language_info": {
   "codemirror_mode": {
    "name": "ipython",
    "version": 2
   },
   "file_extension": ".py",
   "mimetype": "text/x-python",
   "name": "python",
   "nbconvert_exporter": "python",
   "pygments_lexer": "ipython2",
   "version": "2.7.13"
  }
 },
 "nbformat": 4,
 "nbformat_minor": 2
}
